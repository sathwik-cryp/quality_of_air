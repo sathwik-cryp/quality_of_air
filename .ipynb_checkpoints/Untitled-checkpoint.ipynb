{
 "cells": [
  {
   "cell_type": "code",
   "execution_count": 12,
   "id": "bc780e70",
   "metadata": {},
   "outputs": [],
   "source": [
    "import numpy as np\n",
    "import pandas as pd\n",
    "import seaborn as sns"
   ]
  },
  {
   "cell_type": "code",
   "execution_count": 13,
   "id": "661999a8",
   "metadata": {},
   "outputs": [
    {
     "data": {
      "text/html": [
       "<div>\n",
       "<style scoped>\n",
       "    .dataframe tbody tr th:only-of-type {\n",
       "        vertical-align: middle;\n",
       "    }\n",
       "\n",
       "    .dataframe tbody tr th {\n",
       "        vertical-align: top;\n",
       "    }\n",
       "\n",
       "    .dataframe thead th {\n",
       "        text-align: right;\n",
       "    }\n",
       "</style>\n",
       "<table border=\"1\" class=\"dataframe\">\n",
       "  <thead>\n",
       "    <tr style=\"text-align: right;\">\n",
       "      <th></th>\n",
       "      <th>City,Date,PM2.5,PM10,NO,NO2,NOx,NH3,CO,SO2,O3,Benzene,Toluene,Xylene,AQI,AQI_Bucket</th>\n",
       "    </tr>\n",
       "  </thead>\n",
       "  <tbody>\n",
       "    <tr>\n",
       "      <th>0</th>\n",
       "      <td>Ahmedabad,2015-01-01,,,0.92,18.22,17.15,,0.92,...</td>\n",
       "    </tr>\n",
       "    <tr>\n",
       "      <th>1</th>\n",
       "      <td>Ahmedabad,2015-01-02,,,0.97,15.69,16.46,,0.97,...</td>\n",
       "    </tr>\n",
       "    <tr>\n",
       "      <th>2</th>\n",
       "      <td>Ahmedabad,2015-01-03,,,17.4,19.3,29.7,,17.4,29...</td>\n",
       "    </tr>\n",
       "    <tr>\n",
       "      <th>3</th>\n",
       "      <td>Ahmedabad,2015-01-04,,,1.7,18.48,17.97,,1.7,18...</td>\n",
       "    </tr>\n",
       "    <tr>\n",
       "      <th>4</th>\n",
       "      <td>Ahmedabad,2015-01-05,,,22.1,21.42,37.76,,22.1,...</td>\n",
       "    </tr>\n",
       "  </tbody>\n",
       "</table>\n",
       "</div>"
      ],
      "text/plain": [
       "  City,Date,PM2.5,PM10,NO,NO2,NOx,NH3,CO,SO2,O3,Benzene,Toluene,Xylene,AQI,AQI_Bucket\n",
       "0  Ahmedabad,2015-01-01,,,0.92,18.22,17.15,,0.92,...                                 \n",
       "1  Ahmedabad,2015-01-02,,,0.97,15.69,16.46,,0.97,...                                 \n",
       "2  Ahmedabad,2015-01-03,,,17.4,19.3,29.7,,17.4,29...                                 \n",
       "3  Ahmedabad,2015-01-04,,,1.7,18.48,17.97,,1.7,18...                                 \n",
       "4  Ahmedabad,2015-01-05,,,22.1,21.42,37.76,,22.1,...                                 "
      ]
     },
     "execution_count": 13,
     "metadata": {},
     "output_type": "execute_result"
    }
   ],
   "source": [
    "Air=pd.read_csv(\"archive/city_day.csv\",sep=';')\n",
    "Air.head()"
   ]
  },
  {
   "cell_type": "code",
   "execution_count": 14,
   "id": "ebf61f42",
   "metadata": {},
   "outputs": [
    {
     "name": "stdout",
     "output_type": "stream",
     "text": [
      "<class 'pandas.core.frame.DataFrame'>\n",
      "RangeIndex: 29531 entries, 0 to 29530\n",
      "Data columns (total 1 columns):\n",
      " #   Column                                                                               Non-Null Count  Dtype \n",
      "---  ------                                                                               --------------  ----- \n",
      " 0   City,Date,PM2.5,PM10,NO,NO2,NOx,NH3,CO,SO2,O3,Benzene,Toluene,Xylene,AQI,AQI_Bucket  29531 non-null  object\n",
      "dtypes: object(1)\n",
      "memory usage: 230.8+ KB\n"
     ]
    }
   ],
   "source": [
    "Air.info()"
   ]
  },
  {
   "cell_type": "code",
   "execution_count": null,
   "id": "dab44b8b",
   "metadata": {},
   "outputs": [],
   "source": [
    "train1 = Air.drop(['AQI','AQI_Bucket','City','Date','Benzene','Toluene','Xylene'], axis=1)\n",
    "target=Air['AQI']"
   ]
  }
 ],
 "metadata": {
  "kernelspec": {
   "display_name": "Python 3 (ipykernel)",
   "language": "python",
   "name": "python3"
  },
  "language_info": {
   "codemirror_mode": {
    "name": "ipython",
    "version": 3
   },
   "file_extension": ".py",
   "mimetype": "text/x-python",
   "name": "python",
   "nbconvert_exporter": "python",
   "pygments_lexer": "ipython3",
   "version": "3.9.13"
  }
 },
 "nbformat": 4,
 "nbformat_minor": 5
}
